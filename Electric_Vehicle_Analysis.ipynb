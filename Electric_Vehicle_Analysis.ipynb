{
 "cells": [
  {
   "cell_type": "code",
   "execution_count": null,
   "id": "8df999d4",
   "metadata": {},
   "outputs": [],
   "source": [
    "# import  libraries\n",
    "import pandas as pd\n",
    "import numpy as np\n",
    "import matplotlib.pyplot as plt\n",
    "import seaborn as sns"
   ]
  },
  {
   "cell_type": "code",
   "execution_count": null,
   "id": "b3a110fb",
   "metadata": {},
   "outputs": [],
   "source": [
    "data = pd.read_csv('EV_cars.csv')\n",
    "data.head()"
   ]
  },
  {
   "cell_type": "code",
   "execution_count": null,
   "id": "7c1e7870",
   "metadata": {},
   "outputs": [],
   "source": [
    "data.shape"
   ]
  },
  {
   "cell_type": "code",
   "execution_count": null,
   "id": "ae2dc2d7",
   "metadata": {},
   "outputs": [],
   "source": [
    "data.describe()"
   ]
  },
  {
   "cell_type": "code",
   "execution_count": null,
   "id": "63e89813",
   "metadata": {},
   "outputs": [],
   "source": [
    "data.info()"
   ]
  },
  {
   "cell_type": "code",
   "execution_count": null,
   "id": "7133f367",
   "metadata": {},
   "outputs": [],
   "source": [
    "data.columns"
   ]
  },
  {
   "cell_type": "code",
   "execution_count": null,
   "id": "d45bd454",
   "metadata": {},
   "outputs": [],
   "source": [
    "data.isnull().sum()"
   ]
  },
  {
   "cell_type": "code",
   "execution_count": null,
   "id": "e70bf156",
   "metadata": {},
   "outputs": [],
   "source": [
    "data[['Price.DE.']].isnull().sum()"
   ]
  },
  {
   "cell_type": "code",
   "execution_count": null,
   "id": "4bb715cd",
   "metadata": {},
   "outputs": [],
   "source": [
    "data.tail()"
   ]
  },
  {
   "cell_type": "code",
   "execution_count": null,
   "id": "7aca00d6",
   "metadata": {},
   "outputs": [],
   "source": [
    "data.drop('Car_name_link', axis=1, inplace=True)"
   ]
  },
  {
   "cell_type": "code",
   "execution_count": null,
   "id": "efe76461",
   "metadata": {},
   "outputs": [],
   "source": [
    "data.head()"
   ]
  },
  {
   "cell_type": "code",
   "execution_count": null,
   "id": "f7e618ae",
   "metadata": {},
   "outputs": [],
   "source": [
    "f= data.groupby(['Car_name'])['Price.DE.'].mean().nlargest(20)\n",
    "f.plot(kind='bar')"
   ]
  },
  {
   "cell_type": "code",
   "execution_count": null,
   "id": "7a01ac87",
   "metadata": {},
   "outputs": [],
   "source": [
    "f= data.groupby(['Car_name'])['Fast_charge'].mean().nlargest(30)\n",
    "f.plot(kind='bar')"
   ]
  },
  {
   "cell_type": "code",
   "execution_count": null,
   "id": "80eb4857",
   "metadata": {},
   "outputs": [],
   "source": [
    "f= data.groupby(['Car_name'])['Range'].mean().nlargest(10)\n",
    "f.plot(kind='bar')"
   ]
  },
  {
   "cell_type": "code",
   "execution_count": null,
   "id": "58b3f607",
   "metadata": {},
   "outputs": [],
   "source": [
    "data.describe().T"
   ]
  },
  {
   "cell_type": "code",
   "execution_count": null,
   "id": "6513ed77",
   "metadata": {},
   "outputs": [],
   "source": [
    "data.groupby(['Car_name']).value_counts().head()"
   ]
  },
  {
   "cell_type": "code",
   "execution_count": null,
   "id": "259928c4",
   "metadata": {},
   "outputs": [],
   "source": [
    "data['Car_name'].value_counts()[:5]"
   ]
  },
  {
   "cell_type": "code",
   "execution_count": null,
   "id": "3862994e",
   "metadata": {},
   "outputs": [],
   "source": [
    "data.duplicated('Car_name')"
   ]
  },
  {
   "cell_type": "code",
   "execution_count": null,
   "id": "7e20de79",
   "metadata": {},
   "outputs": [],
   "source": [
    "data.columns"
   ]
  },
  {
   "cell_type": "code",
   "execution_count": null,
   "id": "c37e549d",
   "metadata": {},
   "outputs": [],
   "source": [
    "data['Price'].fillna(method='ffill', inplace=True)\n",
    "data['Fast_Charge'].fillna(method='ffill', inplace=True)"
   ]
  },
  {
   "cell_type": "code",
   "execution_count": null,
   "id": "407322fe",
   "metadata": {},
   "outputs": [],
   "source": [
    "data.drop_duplicates(subset='Car_name', inplace=True)"
   ]
  },
  {
   "cell_type": "code",
   "execution_count": null,
   "id": "5cae74bd",
   "metadata": {},
   "outputs": [],
   "source": [
    "data.shape"
   ]
  },
  {
   "cell_type": "code",
   "execution_count": null,
   "id": "ad5d55f0",
   "metadata": {},
   "outputs": [],
   "source": [
    "data.head()"
   ]
  },
  {
   "cell_type": "code",
   "execution_count": null,
   "id": "ce037e13",
   "metadata": {},
   "outputs": [],
   "source": [
    "data.groupby(['Car_name'])['Efficiency'].sum().nlargest().head()"
   ]
  },
  {
   "cell_type": "code",
   "execution_count": null,
   "id": "130609cf",
   "metadata": {},
   "outputs": [],
   "source": [
    "efficiency_1 = data.groupby(['Car_name'])['Efficiency'].sum().nlargest().head()\n",
    "efficiency_1.plot(kind='pie',autopct=\"%0.1f%%\").set_title('Top Ten Car Company Contribution in the market')"
   ]
  },
  {
   "cell_type": "code",
   "execution_count": null,
   "id": "7ae98e55",
   "metadata": {},
   "outputs": [],
   "source": [
    "data.columns"
   ]
  },
  {
   "cell_type": "code",
   "execution_count": null,
   "id": "23fa2d00",
   "metadata": {},
   "outputs": [],
   "source": [
    "sns.histplot(data['Range'])"
   ]
  },
  {
   "cell_type": "code",
   "execution_count": null,
   "id": "eda3878d",
   "metadata": {},
   "outputs": [],
   "source": [
    "sns.histplot(data['Top_speed'])"
   ]
  },
  {
   "cell_type": "code",
   "execution_count": null,
   "id": "958fe09b",
   "metadata": {},
   "outputs": [],
   "source": [
    "sns.histplot(data['Price.DE.'])"
   ]
  },
  {
   "cell_type": "code",
   "execution_count": null,
   "id": "911893f0",
   "metadata": {},
   "outputs": [],
   "source": [
    "data['Battery'].nunique()"
   ]
  },
  {
   "cell_type": "code",
   "execution_count": null,
   "id": "d981cbee",
   "metadata": {},
   "outputs": [],
   "source": [
    "sns.scatterplot(data=data,x='Battery',y='Price.DE.',hue='Battery')"
   ]
  },
  {
   "cell_type": "code",
   "execution_count": null,
   "id": "b8d0ad98",
   "metadata": {},
   "outputs": [],
   "source": [
    "y = data.groupby(['Car_name'])['Battery'].mean()\n",
    "plt.plot(y)"
   ]
  },
  {
   "cell_type": "code",
   "execution_count": null,
   "id": "c96e8f52",
   "metadata": {},
   "outputs": [],
   "source": [
    "import seaborn as sns \n",
    "sns.heatmap(data.corr(), cmap='coolwarm', annot=True)"
   ]
  },
  {
   "cell_type": "code",
   "execution_count": null,
   "id": "c083a18c",
   "metadata": {},
   "outputs": [],
   "source": [
    "data.corr(method='pearson', numeric_only=True)"
   ]
  },
  {
   "cell_type": "code",
   "execution_count": null,
   "id": "4e510094",
   "metadata": {},
   "outputs": [],
   "source": [
    "sns.pairplot(data, hue=None,diag_kind=\"hist\")"
   ]
  },
  {
   "cell_type": "code",
   "execution_count": null,
   "id": "ead3b609",
   "metadata": {},
   "outputs": [],
   "source": [
    "data.rename({'Fast_charge':'Fast_Charge',\n",
    "            'Price.DE.':'Price',\n",
    "            'Top_speed':'Top_Speed',\n",
    "            'acceleration..0.100.':'Acceleration_Time'}, axis=1, inplace=True)"
   ]
  },
  {
   "cell_type": "code",
   "execution_count": null,
   "id": "7144c30d",
   "metadata": {},
   "outputs": [],
   "source": [
    "data.head()"
   ]
  },
  {
   "cell_type": "code",
   "execution_count": null,
   "id": "c3d96462",
   "metadata": {},
   "outputs": [],
   "source": [
    "corr = data.corr()['Price']\n",
    "print(corr)"
   ]
  },
  {
   "cell_type": "code",
   "execution_count": null,
   "id": "faff1fdc",
   "metadata": {},
   "outputs": [],
   "source": [
    "data.head()"
   ]
  },
  {
   "cell_type": "code",
   "execution_count": null,
   "id": "c538c015",
   "metadata": {},
   "outputs": [],
   "source": [
    "data.drop('Car_name', axis=1, inplace=True)"
   ]
  },
  {
   "cell_type": "code",
   "execution_count": null,
   "id": "f345bda9",
   "metadata": {},
   "outputs": [],
   "source": [
    "#scoring and tuning \n",
    "from sklearn.metrics import r2_score\n",
    "from sklearn.model_selection import cross_val_score\n",
    "from sklearn.model_selection import GridSearchCV\n",
    "from sklearn.metrics import mean_absolute_error\n",
    "from sklearn.metrics import mean_squared_error\n",
    "from sklearn.model_selection import train_test_split, RandomizedSearchCV, KFold\n",
    "#models\n",
    "from sklearn.linear_model import LinearRegression\n",
    "from sklearn.ensemble import RandomForestRegressor\n",
    "from sklearn.tree import DecisionTreeRegressor\n",
    "from sklearn.preprocessing import PolynomialFeatures\n",
    "from sklearn.linear_model import Ridge\n",
    "from sklearn.linear_model import Lasso"
   ]
  },
  {
   "cell_type": "code",
   "execution_count": null,
   "id": "888d5e63",
   "metadata": {},
   "outputs": [],
   "source": [
    "X=data.drop('Price',axis=1)\n",
    "y=data['Price'] \n",
    "\n",
    "# Split the data into training and testing sets\n",
    "X_train, X_test, y_train, y_test = train_test_split(X, y, test_size=0.2, random_state=42)"
   ]
  },
  {
   "cell_type": "code",
   "execution_count": null,
   "id": "d80f9c41",
   "metadata": {},
   "outputs": [],
   "source": [
    "#Linear Regression\n",
    "\n",
    "Model = LinearRegression()\n",
    "Model.fit(X_train,y_train)\n",
    "\n",
    "y_pred = Model.predict(X_test)\n",
    "\n",
    "mae = mean_absolute_error(y_test, y_pred)\n",
    "mse = mean_squared_error(y_test, y_pred)\n",
    "rmse = np.sqrt(mse)\n",
    "r2 = r2_score(y_test, y_pred)\n",
    "\n",
    "print(f\"Mean Absolute Error (MAE): {mae:.2f}\")\n",
    "print(f\"Mean Squared Error (MSE): {mse:.2f}\")\n",
    "print(f\"Root Mean Squared Error (RMSE): {rmse:.2f}\")\n",
    "print(f\"R-squared (R2): {r2:.2f}\")\n"
   ]
  },
  {
   "cell_type": "code",
   "execution_count": null,
   "id": "0542f02d",
   "metadata": {},
   "outputs": [],
   "source": [
    "#Decision Tree Regression\n",
    "\n",
    "Dtree = DecisionTreeRegressor(max_depth=3, random_state=42)\n",
    "Dtree.fit(X_train,y_train)\n",
    "\n",
    "y_pred = Dtree.predict(X_test)\n",
    "\n",
    "D_mae = mean_absolute_error(y_test, y_pred)\n",
    "D_mse = mean_squared_error(y_test, y_pred)\n",
    "D_rmse = np.sqrt(mse)\n",
    "D_r2 = r2_score(y_test, y_pred)\n",
    "\n",
    "print(f\"Mean Absolute Error (MAE): {D_mae:.2f}\")\n",
    "print(f\"Mean Squared Error (MSE): {D_mse:.2f}\")\n",
    "print(f\"Root Mean Squared Error (RMSE): {D_rmse:.2f}\")\n",
    "print(f\"R-squared (R2): {D_r2:.2f}\")"
   ]
  },
  {
   "cell_type": "code",
   "execution_count": null,
   "id": "9ed4f9cb",
   "metadata": {},
   "outputs": [],
   "source": [
    "# random forest regression model\n",
    "rforest = RandomForestRegressor(n_estimators=100, max_depth=3, random_state=42)\n",
    "\n",
    "# Fit the model on the training data\n",
    "rforest.fit(X_train, y_train)\n",
    "\n",
    "# Make predictions on the testing data\n",
    "y_pred = rforest.predict(X_test)\n",
    "\n",
    "r_mae = mean_absolute_error(y_test, y_pred)\n",
    "r_mse = mean_squared_error(y_test, y_pred)\n",
    "r_rmse = np.sqrt(mse)\n",
    "r_r2 = r2_score(y_test, y_pred)\n",
    "\n",
    "print(f\"Mean Absolute Error (MAE): {r_mae:.2f}\")\n",
    "print(f\"Mean Squared Error (MSE): {r_mse:.2f}\")\n",
    "print(f\"Root Mean Squared Error (RMSE): {r_rmse:.2f}\")\n",
    "print(f\"R-squared (R2): {r_r2:.2f}\")"
   ]
  },
  {
   "cell_type": "code",
   "execution_count": null,
   "id": "3fe4a7af",
   "metadata": {},
   "outputs": [],
   "source": [
    "#polynomial regression \n",
    "\n",
    "poly_features = PolynomialFeatures(degree=2)\n",
    "\n",
    "# Transform the input features to polynomial features\n",
    "X_train_poly = poly_features.fit_transform(X_train)\n",
    "X_test_poly = poly_features.transform(X_test)\n",
    "\n",
    "# Create a linear regression model\n",
    "model = LinearRegression()\n",
    "\n",
    "# Fit the model on the transformed training data\n",
    "model.fit(X_train_poly, y_train)\n",
    "\n",
    "# Make predictions on the transformed testing data\n",
    "y_pred = model.predict(X_test_poly)\n",
    "\n",
    "p_mae = mean_absolute_error(y_test, y_pred)\n",
    "p_mse = mean_squared_error(y_test, y_pred)\n",
    "p_rmse = np.sqrt(mse)\n",
    "p_r2 = r2_score(y_test, y_pred)\n",
    "\n",
    "print(f\"Mean Absolute Error (MAE): {p_mae:.2f}\")\n",
    "print(f\"Mean Squared Error (MSE): {p_mse:.2f}\")\n",
    "print(f\"Root Mean Squared Error (RMSE): {p_rmse:.2f}\")\n",
    "print(f\"R-squared (R2): {p_r2:.2f}\")"
   ]
  },
  {
   "cell_type": "code",
   "execution_count": null,
   "id": "41ac8d34",
   "metadata": {},
   "outputs": [],
   "source": [
    "# Create Ridge and Lasso regression models\n",
    "ridge = Ridge(alpha=1)\n",
    "lasso = Lasso(alpha=1)\n",
    "\n",
    "# Fit the models on the training data\n",
    "ridge.fit(X_train, y_train)\n",
    "lasso.fit(X_train, y_train)\n",
    "\n",
    "# Make predictions on the testing data\n",
    "y_pred_ridge = ridge.predict(X_test)\n",
    "y_pred_lasso = lasso.predict(X_test)\n",
    "\n",
    "# Evaluate the models\n",
    "mse_ridge = mean_squared_error(y_test, y_pred_ridge)\n",
    "mse_lasso = mean_squared_error(y_test, y_pred_lasso)\n",
    "r1 = r2_score(y_test, y_pred_ridge)\n",
    "r2 = r2_score(y_test, y_pred_lasso)\n",
    "\n",
    "print(f\"Mean Squared Error (Ridge): {mse_ridge:.2f}\")\n",
    "print(f\"Mean Squared Error (Lasso): {mse_lasso: .2f}\")\n",
    "print(f\"R-squared (R2) (Ridge): {r1: .2f}\")\n",
    "print(f\"R-squared (R2) (Lasso): {r2: .2f}\")"
   ]
  },
  {
   "cell_type": "code",
   "execution_count": null,
   "id": "45eb2146",
   "metadata": {},
   "outputs": [],
   "source": [
    "param_grid = {\n",
    "    'n_estimators': [10, 50, 100, 200],\n",
    "    'max_depth': [5, 10, 20, 30],\n",
    "    'min_samples_split': [2, 5, 10]\n",
    "}\n",
    "\n",
    "# Create a random forest regressor\n",
    "rforest = RandomForestRegressor(random_state=42)\n",
    "\n",
    "# Instantiate the grid search with cross-validation\n",
    "grid_search = GridSearchCV(estimator=rforest, param_grid=param_grid, cv=5, scoring='neg_mean_squared_error')\n",
    "\n",
    "# Fit the grid search to the data\n",
    "grid_search.fit(X_train, y_train)\n",
    "\n",
    "# Print the best combination of hyperparameters and their score\n",
    "print(\"Best hyperparameters:\", grid_search.best_params_)\n",
    "print(\"Best score:\", -grid_search.best_score_)"
   ]
  },
  {
   "cell_type": "code",
   "execution_count": null,
   "id": "0ad3984f",
   "metadata": {},
   "outputs": [],
   "source": [
    "%%time\n",
    "from sklearn.feature_selection import RFECV\n",
    "from sklearn.ensemble import RandomForestClassifier\n",
    "from sklearn.metrics import accuracy_score\n",
    "\n",
    "# Instantiate the best model from Step 4 (e.g., Random Forests)\n",
    "best_model = RandomForestClassifier(n_estimators=100, max_depth=5,min_samples_split= 10)\n",
    "\n",
    "# Create the RFECV object and fit it to the training data\n",
    "selector = RFECV(best_model, step=1, cv=3, scoring='accuracy')\n",
    "selector.fit(X_train, y_train)\n",
    "\n",
    "# Get the selected features and their ranks\n",
    "selected_features = X_train.columns[selector.support_]\n",
    "feature_ranks = selector.ranking_\n",
    "\n",
    "print(f\"Selected features: {selected_features}\")\n",
    "print(f\"Feature ranks: {feature_ranks}\")"
   ]
  },
  {
   "cell_type": "code",
   "execution_count": null,
   "id": "ce484a0b",
   "metadata": {},
   "outputs": [],
   "source": [
    "# Convert selected_features to a list\n",
    "selected_features_list = selected_features.tolist()\n",
    "\n",
    "# Remove target variable from the list of selected features if it's present\n",
    "if 'Price' in selected_features_list:\n",
    "    selected_features_list.remove('Price')\n",
    "\n",
    "# Create new dataframes with only the selected features\n",
    "X_train_selected = X_train[selected_features_list]\n",
    "X_test_selected = X_test[selected_features_list]"
   ]
  },
  {
   "cell_type": "code",
   "execution_count": null,
   "id": "85235276",
   "metadata": {},
   "outputs": [],
   "source": [
    "best_model=best_model.fit(X_train_selected, y_train)\n",
    "\n",
    "# Make predictions on the test set\n",
    "y_pred = best_model.predict(X_test_selected)\n",
    "\n",
    "# Evaluate the model using accuracy_score\n",
    "from sklearn.metrics import accuracy_score\n",
    "\n",
    "test_accuracy = accuracy_score(y_test, y_pred)\n",
    "print(f\"Test accuracy with selected features: {test_accuracy}\")"
   ]
  },
  {
   "cell_type": "code",
   "execution_count": null,
   "id": "d509163a",
   "metadata": {},
   "outputs": [],
   "source": [
    "import json\n",
    "selected_features_list = selected_features.tolist()\n",
    "\n",
    "with open(\"selected_features.json\", \"w\") as f:\n",
    "    json.dump(selected_features_list, f)"
   ]
  },
  {
   "cell_type": "code",
   "execution_count": null,
   "id": "07fd50b0",
   "metadata": {},
   "outputs": [],
   "source": [
    "import joblib\n",
    "\n",
    "# Save the best model to a file\n",
    "#joblib.dump(best_model, \"best_model.pkl\")"
   ]
  },
  {
   "cell_type": "code",
   "execution_count": null,
   "id": "2fb88dc6",
   "metadata": {},
   "outputs": [],
   "source": [
    "import pickle\n",
    "pickle.dump(best_model, open('best_model1.pkl', 'wb'))"
   ]
  }
 ],
 "metadata": {
  "kernelspec": {
   "display_name": "Python 3 (ipykernel)",
   "language": "python",
   "name": "python3"
  },
  "language_info": {
   "codemirror_mode": {
    "name": "ipython",
    "version": 3
   },
   "file_extension": ".py",
   "mimetype": "text/x-python",
   "name": "python",
   "nbconvert_exporter": "python",
   "pygments_lexer": "ipython3",
   "version": "3.11.4"
  }
 },
 "nbformat": 4,
 "nbformat_minor": 5
}
